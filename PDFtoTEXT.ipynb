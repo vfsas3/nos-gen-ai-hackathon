{
 "cells": [
  {
   "cell_type": "code",
   "execution_count": 1,
   "id": "c0d18e51",
   "metadata": {},
   "outputs": [
    {
     "name": "stdout",
     "output_type": "stream",
     "text": [
      "\u001b[33m  WARNING: The script pymupdf is installed in '/Library/Frameworks/Python.framework/Versions/3.10/bin' which is not on PATH.\n",
      "  Consider adding this directory to PATH or, if you prefer to suppress this warning, use --no-warn-script-location.\u001b[0m\u001b[33m\n",
      "\u001b[0m\n",
      "\u001b[1m[\u001b[0m\u001b[34;49mnotice\u001b[0m\u001b[1;39;49m]\u001b[0m\u001b[39;49m A new release of pip is available: \u001b[0m\u001b[31;49m24.0\u001b[0m\u001b[39;49m -> \u001b[0m\u001b[32;49m25.1.1\u001b[0m\n",
      "\u001b[1m[\u001b[0m\u001b[34;49mnotice\u001b[0m\u001b[1;39;49m]\u001b[0m\u001b[39;49m To update, run: \u001b[0m\u001b[32;49mpython3.10 -m pip install --upgrade pip\u001b[0m\n",
      "Note: you may need to restart the kernel to use updated packages.\n"
     ]
    }
   ],
   "source": [
    "%pip install PyMuPDF --quiet"
   ]
  },
  {
   "cell_type": "code",
   "execution_count": 2,
   "id": "ac0f1bef",
   "metadata": {},
   "outputs": [],
   "source": [
    "import fitz"
   ]
  },
  {
   "cell_type": "code",
   "execution_count": 3,
   "id": "8dc83fcb",
   "metadata": {},
   "outputs": [],
   "source": [
    "pdf_path = \"raw_data\\document_to_anonymize.pdf\""
   ]
  },
  {
   "cell_type": "code",
   "execution_count": 4,
   "id": "eb7a333f",
   "metadata": {},
   "outputs": [],
   "source": [
    "def extract_text_from_pdf(path: str) -> str:\n",
    "    \"\"\"\n",
    "    Extracts text content from all pages of a PDF file while preserving paragraph structure through blocks.\n",
    "\n",
    "    Parameters:\n",
    "        path (str): The file path to the PDF document.\n",
    "\n",
    "    Returns:\n",
    "        str: The extracted text from the entire PDF with paragraphs.\n",
    "    \"\"\"\n",
    "    text = \"\"\n",
    "    with fitz.open(path) as doc:\n",
    "        for page in doc:\n",
    "            blocks = page.get_text(\"blocks\")\n",
    "            blocks = sorted(blocks, key=lambda b: b[1])\n",
    "            for block in blocks:\n",
    "                text += block[4] + \"\\n\\n\"\n",
    "    return text.strip()"
   ]
  },
  {
   "cell_type": "code",
   "execution_count": 5,
   "id": "1286579e",
   "metadata": {},
   "outputs": [],
   "source": [
    "import unicodedata\n",
    "import re\n",
    "\n",
    "def remove_all_special_characters(text: str) -> str:\n",
    "    \"\"\"\n",
    "    Normalizes and cleans a text string by removing accents, punctuation, and special characters.\n",
    "\n",
    "    Steps:\n",
    "        1. Converts accented characters to their ASCII equivalents.\n",
    "        2. Removes all characters except letters, numbers, and spaces.\n",
    "        3. Collapses multiple spaces into a single space except for newlines.\n",
    "        4. Strips leading and trailing whitespace.\n",
    "\n",
    "    Parameters:\n",
    "        text (str): The input string to be cleaned.\n",
    "\n",
    "    Returns:\n",
    "        str: The cleaned and normalized string.\n",
    "    \"\"\"\n",
    "    text = unicodedata.normalize(\"NFD\", text)\n",
    "    text = text.encode(\"ascii\", \"ignore\").decode(\"utf-8\")\n",
    "\n",
    "    text = re.sub(r\"[^\\w\\s\\n]\", \"\", text)\n",
    "    text = re.sub(r\"[ \\t]+\", \" \", text)\n",
    "\n",
    "    return text.strip()"
   ]
  },
  {
   "cell_type": "code",
   "execution_count": 6,
   "id": "2d7a76fa",
   "metadata": {},
   "outputs": [
    {
     "ename": "FileNotFoundError",
     "evalue": "no such file: 'raw_data\\document_to_anonymize.pdf'",
     "output_type": "error",
     "traceback": [
      "\u001b[0;31m---------------------------------------------------------------------------\u001b[0m",
      "\u001b[0;31mFileNotFoundError\u001b[0m                         Traceback (most recent call last)",
      "\u001b[0;32m/var/folders/7x/jzz8zkp55cb7t6rp3hdj_b0r0000gn/T/ipykernel_45023/754982961.py\u001b[0m in \u001b[0;36m?\u001b[0;34m()\u001b[0m\n\u001b[0;32m----> 1\u001b[0;31m \u001b[0mraw_text\u001b[0m \u001b[0;34m=\u001b[0m \u001b[0mextract_text_from_pdf\u001b[0m\u001b[0;34m(\u001b[0m\u001b[0mpdf_path\u001b[0m\u001b[0;34m)\u001b[0m\u001b[0;34m\u001b[0m\u001b[0;34m\u001b[0m\u001b[0m\n\u001b[0m\u001b[1;32m      2\u001b[0m \u001b[0mraw_text_cleaned\u001b[0m \u001b[0;34m=\u001b[0m \u001b[0mremove_all_special_characters\u001b[0m\u001b[0;34m(\u001b[0m\u001b[0mraw_text\u001b[0m\u001b[0;34m)\u001b[0m\u001b[0;34m\u001b[0m\u001b[0;34m\u001b[0m\u001b[0m\n",
      "\u001b[0;32m/var/folders/7x/jzz8zkp55cb7t6rp3hdj_b0r0000gn/T/ipykernel_45023/1095857313.py\u001b[0m in \u001b[0;36m?\u001b[0;34m(path)\u001b[0m\n\u001b[1;32m      8\u001b[0m     \u001b[0mReturns\u001b[0m\u001b[0;34m:\u001b[0m\u001b[0;34m\u001b[0m\u001b[0;34m\u001b[0m\u001b[0m\n\u001b[1;32m      9\u001b[0m         \u001b[0mstr\u001b[0m\u001b[0;34m:\u001b[0m \u001b[0mThe\u001b[0m \u001b[0mextracted\u001b[0m \u001b[0mtext\u001b[0m \u001b[0;32mfrom\u001b[0m \u001b[0mthe\u001b[0m \u001b[0mentire\u001b[0m \u001b[0mPDF\u001b[0m \u001b[0;32mwith\u001b[0m \u001b[0mparagraphs\u001b[0m\u001b[0;34m.\u001b[0m\u001b[0;34m\u001b[0m\u001b[0;34m\u001b[0m\u001b[0m\n\u001b[1;32m     10\u001b[0m     \"\"\"\n\u001b[1;32m     11\u001b[0m     \u001b[0mtext\u001b[0m \u001b[0;34m=\u001b[0m \u001b[0;34m\"\"\u001b[0m\u001b[0;34m\u001b[0m\u001b[0;34m\u001b[0m\u001b[0m\n\u001b[0;32m---> 12\u001b[0;31m     \u001b[0;32mwith\u001b[0m \u001b[0mfitz\u001b[0m\u001b[0;34m.\u001b[0m\u001b[0mopen\u001b[0m\u001b[0;34m(\u001b[0m\u001b[0mpath\u001b[0m\u001b[0;34m)\u001b[0m \u001b[0;32mas\u001b[0m \u001b[0mdoc\u001b[0m\u001b[0;34m:\u001b[0m\u001b[0;34m\u001b[0m\u001b[0;34m\u001b[0m\u001b[0m\n\u001b[0m\u001b[1;32m     13\u001b[0m         \u001b[0;32mfor\u001b[0m \u001b[0mpage\u001b[0m \u001b[0;32min\u001b[0m \u001b[0mdoc\u001b[0m\u001b[0;34m:\u001b[0m\u001b[0;34m\u001b[0m\u001b[0;34m\u001b[0m\u001b[0m\n\u001b[1;32m     14\u001b[0m             \u001b[0mblocks\u001b[0m \u001b[0;34m=\u001b[0m \u001b[0mpage\u001b[0m\u001b[0;34m.\u001b[0m\u001b[0mget_text\u001b[0m\u001b[0;34m(\u001b[0m\u001b[0;34m\"blocks\"\u001b[0m\u001b[0;34m)\u001b[0m\u001b[0;34m\u001b[0m\u001b[0;34m\u001b[0m\u001b[0m\n\u001b[1;32m     15\u001b[0m             \u001b[0mblocks\u001b[0m \u001b[0;34m=\u001b[0m \u001b[0msorted\u001b[0m\u001b[0;34m(\u001b[0m\u001b[0mblocks\u001b[0m\u001b[0;34m,\u001b[0m \u001b[0mkey\u001b[0m\u001b[0;34m=\u001b[0m\u001b[0;32mlambda\u001b[0m \u001b[0mb\u001b[0m\u001b[0;34m:\u001b[0m \u001b[0mb\u001b[0m\u001b[0;34m[\u001b[0m\u001b[0;36m1\u001b[0m\u001b[0;34m]\u001b[0m\u001b[0;34m)\u001b[0m\u001b[0;34m\u001b[0m\u001b[0;34m\u001b[0m\u001b[0m\n",
      "\u001b[0;32m/Library/Frameworks/Python.framework/Versions/3.10/lib/python3.10/site-packages/pymupdf/__init__.py\u001b[0m in \u001b[0;36m?\u001b[0;34m(self, filename, stream, filetype, rect, width, height, fontsize)\u001b[0m\n\u001b[1;32m   3045\u001b[0m                     \u001b[0mself\u001b[0m\u001b[0;34m.\u001b[0m\u001b[0mpage_count2\u001b[0m \u001b[0;34m=\u001b[0m \u001b[0mextra\u001b[0m\u001b[0;34m.\u001b[0m\u001b[0mpage_count_pdf\u001b[0m\u001b[0;34m\u001b[0m\u001b[0;34m\u001b[0m\u001b[0m\n\u001b[1;32m   3046\u001b[0m                 \u001b[0;32melse\u001b[0m\u001b[0;34m:\u001b[0m\u001b[0;34m\u001b[0m\u001b[0;34m\u001b[0m\u001b[0m\n\u001b[1;32m   3047\u001b[0m                     \u001b[0mself\u001b[0m\u001b[0;34m.\u001b[0m\u001b[0mpage_count2\u001b[0m \u001b[0;34m=\u001b[0m \u001b[0mextra\u001b[0m\u001b[0;34m.\u001b[0m\u001b[0mpage_count_fz\u001b[0m\u001b[0;34m\u001b[0m\u001b[0;34m\u001b[0m\u001b[0m\n\u001b[1;32m   3048\u001b[0m         \u001b[0;32mfinally\u001b[0m\u001b[0;34m:\u001b[0m\u001b[0;34m\u001b[0m\u001b[0;34m\u001b[0m\u001b[0m\n\u001b[0;32m-> 3049\u001b[0;31m             \u001b[0mJM_mupdf_show_errors\u001b[0m \u001b[0;34m=\u001b[0m \u001b[0mJM_mupdf_show_errors_old\u001b[0m\u001b[0;34m\u001b[0m\u001b[0;34m\u001b[0m\u001b[0m\n\u001b[0m",
      "\u001b[0;31mFileNotFoundError\u001b[0m: no such file: 'raw_data\\document_to_anonymize.pdf'"
     ]
    }
   ],
   "source": [
    "raw_text = extract_text_from_pdf(pdf_path)\n",
    "raw_text_cleaned = remove_all_special_characters(raw_text)"
   ]
  },
  {
   "cell_type": "code",
   "execution_count": null,
   "id": "4e57c25d",
   "metadata": {},
   "outputs": [
    {
     "name": "stdout",
     "output_type": "stream",
     "text": [
      "\n",
      "--- Preview of Extracted Text ---\n",
      "\n",
      "Relatorio de Admissao Centro Medico Lisboa \n",
      "\n",
      "\n",
      "Data 15 de abril de 2025 \n",
      "Referencia ADM20250415089 \n",
      "\n",
      "\n",
      "Informacoes do Paciente \n",
      "\n",
      "\n",
      "Nome Maria Conceicao Oliveira Santos \n",
      "\n",
      "\n",
      "Data de Nascimento 12031978 \n",
      "\n",
      "\n",
      "Sexo Feminino \n",
      "\n",
      "\n",
      "NIF 097865413 \n",
      "\n",
      "\n",
      "Cartao de Cidadao 123456789ZX0 \n",
      "Morada Rua das Flores 123 Apt 45 Sacavem Lisboa \n",
      "Telefone 351 912 345 678 \n",
      "Email mariasantosemailpessoalpt \n",
      "Numero da Seguranca Social 11223344556 \n",
      "\n",
      "\n",
      "Historico Medico \n",
      "\n",
      "\n",
      "A paciente Maria Santos mulher caucasiana de 47 anos compareceu a consulta relatando dores \n",
      "abdominais intensas Tem historico de hipertensao e diabetes tipo 2 diagnosticada ha 5 anos E \n",
      "HIV positivo desde 2018 atualmente com carga viral indetectavel gracas ao tratamento com \n",
      "antirretrovirais \n",
      "\n",
      "\n",
      "A paciente relatou que sua familia tem historico de cancro da mama mae falecida aos 52 anos \n",
      "e doenca cardiaca pai e avo paterno Exames geneticos realizados em 2022 indicaram \n",
      "predisposicao ao cancro de mama mutacao BRCA1 positiva \n",
      "\n",
      "\n",
      "Informacoes Sociais e Comportamentais \n",
      "\n",
      "\n",
      "Estado civil Divorciada \n",
      "Filhos 2 Joao 15 anos e Ana 12 anos \n",
      "Religiao Catolica praticante \n",
      "Ocupacao Professora universitaria na Faculdade de Direito de Lisboa \n",
      "Habitos Exfumante parou ha 3 anos consome alcool socialmente 23 doses por semana \n",
      "Historico de uso de substancias Tratamento para dependencia de ansioliticos em 2019 \n",
      "\n",
      "\n",
      "Informacoes Financeiras \n",
      "\n",
      "\n",
      "Seguro de saude Plano Premium Saude Total apolice n 987654321 \n",
      "Numero do cartao de credito 4111 2222 3333 4444 validade 0927 CVV 123 \n",
      "Rendimento anual declarado 62500 \n",
      "\n",
      "\n",
      "Dados Biometricos \n",
      "\n",
      "\n",
      "Impressao digital registrada no sistema IDBIO12345 \n",
      "Reconhecimento facial FACEID78901 \n",
      "Altura 168m \n",
      "Peso 72kg \n",
      "Tipo sanguineo O \n",
      "Pressao arterial na admissao 14590 mmHg \n",
      "\n",
      "\n",
      "Notas da Consulta \n",
      "\n",
      "\n",
      "A paciente apresentouse ansiosa durante a consulta relatando problemas no trabalho \n",
      "relativamente a elevada carga de responsabilidades que adquiriu Sensacao de cansaco fadiga \n",
      "e constante stress foram ditos fazer parte do seu diaadia no entanto apresenta dificuldade em \n",
      "dormircumprir as horas indicadas de sono \n",
      "\n",
      "\n",
      "Exames solicitados hemograma completo glicemia em jejum perfil lipidico funcao hepatica e \n",
      "renal ultrassonografia abdominal \n",
      "\n",
      "\n",
      "Prescricao Metformina 850mg 2xdia Losartana 50mg 1xdia Alprazolam 05mg apenas em \n",
      "caso de crises de ansiedade \n",
      "\n",
      "\n",
      "Contatos de Emergencia \n",
      "\n",
      "\n",
      "Nome Antonio Santos irmao \n",
      "Telefone 351961234567 \n",
      "Email antoniosantosemailpessoalpt \n",
      "\n",
      "\n",
      "Nome Joana Pereira amiga proxima \n",
      "Telefone 351939876543 \n",
      "\n",
      "\n",
      "Assinatura Digital \n",
      "\n",
      "\n",
      "Dr Carlos Mendes \n",
      "CRM 12345PT \n",
      "Especialidade Medicina Interna \n",
      "Email carlosmendescentromedicalisboapt \n",
      "Telefone 351213456789\n"
     ]
    }
   ],
   "source": [
    "print(\"\\n--- Preview of Extracted Text ---\\n\")\n",
    "print(raw_text_cleaned)"
   ]
  },
  {
   "cell_type": "code",
   "execution_count": null,
   "id": "b1d3013c",
   "metadata": {},
   "outputs": [
    {
     "name": "stdout",
     "output_type": "stream",
     "text": [
      "✅ Text extracted and saved to: raw_data\\document_to_anonymize.txt\n"
     ]
    }
   ],
   "source": [
    "txt_path = pdf_path.replace(\".pdf\", \".txt\")\n",
    "with open(txt_path, \"w\", encoding=\"utf-8\") as f:\n",
    "    f.write(raw_text_cleaned)\n",
    "\n",
    "print(f\"✅ Text extracted and saved to: {txt_path}\")"
   ]
  }
 ],
 "metadata": {
  "kernelspec": {
   "display_name": "Python 3",
   "language": "python",
   "name": "python3"
  },
  "language_info": {
   "codemirror_mode": {
    "name": "ipython",
    "version": 3
   },
   "file_extension": ".py",
   "mimetype": "text/x-python",
   "name": "python",
   "nbconvert_exporter": "python",
   "pygments_lexer": "ipython3",
   "version": "3.10.4"
  }
 },
 "nbformat": 4,
 "nbformat_minor": 5
}
