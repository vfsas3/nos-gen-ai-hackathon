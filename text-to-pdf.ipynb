{
 "cells": [
  {
   "cell_type": "code",
   "execution_count": 1,
   "id": "7a860abd",
   "metadata": {},
   "outputs": [
    {
     "name": "stdout",
     "output_type": "stream",
     "text": [
      "Defaulting to user installation because normal site-packages is not writeable\n",
      "Collecting fpdf\n",
      "  Downloading fpdf-1.7.2.tar.gz (39 kB)\n",
      "  Preparing metadata (setup.py): started\n",
      "  Preparing metadata (setup.py): finished with status 'done'\n",
      "Building wheels for collected packages: fpdf\n",
      "  Building wheel for fpdf (setup.py): started\n",
      "  Building wheel for fpdf (setup.py): finished with status 'done'\n",
      "  Created wheel for fpdf: filename=fpdf-1.7.2-py2.py3-none-any.whl size=40714 sha256=5529d55f4884afb7961487a49e0fca8de44969fa942f55bbcad1f099d16ab5f5\n",
      "  Stored in directory: c:\\users\\vasco\\appdata\\local\\pip\\cache\\wheels\\6e\\62\\11\\dc73d78e40a218ad52e7451f30166e94491be013a7850b5d75\n",
      "Successfully built fpdf\n",
      "Installing collected packages: fpdf\n",
      "Successfully installed fpdf-1.7.2\n"
     ]
    }
   ],
   "source": [
    "!pip install fpdf"
   ]
  },
  {
   "cell_type": "code",
   "execution_count": 18,
   "id": "d16f8878",
   "metadata": {},
   "outputs": [],
   "source": [
    "from fpdf import FPDF\n",
    "import os\n",
    "os.chdir(r\"c:\\Users\\vasco\\Desktop\\github\\nos-gen-ai-hackathon\")"
   ]
  },
  {
   "cell_type": "code",
   "execution_count": 19,
   "id": "bc15adf0",
   "metadata": {},
   "outputs": [
    {
     "name": "stdout",
     "output_type": "stream",
     "text": [
      "OKAK\n"
     ]
    }
   ],
   "source": [
    "pdf = FPDF()   \n",
    "\n",
    "pdf.add_page()\n",
    "  \n",
    "pdf.set_font(\"Arial\", size = 12)\n",
    "\n",
    "try:\n",
    "    with open(\"test.txt\", \"r\") as f:\n",
    "        line_height = 10\n",
    "        page_height = 277 \n",
    "        current_y = 0\n",
    "    \n",
    "\n",
    "        for line in f:\n",
    "            if current_y + line_height > page_height:\n",
    "                pdf.add_page()\n",
    "                current_y = 0\n",
    "            pdf.cell(200, line_height, txt =line.strip(), ln = 1, align = 'C')\n",
    "            current_y += line_height\n",
    "    output= \"blabla.pdf\" \n",
    "    pdf.output(output) \n",
    "    print(\"OKAK\")  \n",
    "    os.startfile(output) \n",
    "  \n",
    "except FileNotFoundError:\n",
    "    print(\"Error: 'test.txt' not found. Please check the file path.\")\n",
    "except Exception as e:\n",
    "    print(f\"An error occurred: {e}\")"
   ]
  }
 ],
 "metadata": {
  "kernelspec": {
   "display_name": "Python 3 (ipykernel)",
   "language": "python",
   "name": "python3"
  },
  "language_info": {
   "codemirror_mode": {
    "name": "ipython",
    "version": 3
   },
   "file_extension": ".py",
   "mimetype": "text/x-python",
   "name": "python",
   "nbconvert_exporter": "python",
   "pygments_lexer": "ipython3",
   "version": "3.12.7"
  }
 },
 "nbformat": 4,
 "nbformat_minor": 5
}
