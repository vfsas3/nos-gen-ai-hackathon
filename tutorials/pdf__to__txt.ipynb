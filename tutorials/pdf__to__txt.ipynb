{
  "cells": [
    {
      "cell_type": "markdown",
      "metadata": {
        "id": "7f826e53"
      },
      "source": [
        "\n",
        "# 📄 PDF to Text Extraction Notebook\n",
        "\n",
        "Welcome to the **PDF to Text Extraction** notebook!  \n",
        "This notebook is designed to help you to **extract text** from PDF files using Python.\n",
        "\n",
        "### Let's get started! 💪\n"
      ]
    },
    {
      "cell_type": "markdown",
      "metadata": {
        "id": "BpkGFCiBSogY"
      },
      "source": [
        "📦 First, install the PyMuPDF library!\n",
        "\n",
        "This library is required to extract text from PDF files using the functions below."
      ]
    },
    {
      "cell_type": "code",
      "execution_count": 1,
      "metadata": {
        "colab": {
          "base_uri": "https://localhost:8080/"
        },
        "id": "UeQR1BdDDwJJ",
        "outputId": "eae413d3-1a65-43dc-8cd5-dac895c00392"
      },
      "outputs": [
        {
          "name": "stdout",
          "output_type": "stream",
          "text": [
            "\u001b[2K   \u001b[90m━━━━━━━━━━━━━━━━━━━━━━━━━━━━━━━━━━━━━━━━\u001b[0m \u001b[32m20.0/20.0 MB\u001b[0m \u001b[31m43.3 MB/s\u001b[0m eta \u001b[36m0:00:00\u001b[0m\n",
            "\u001b[?25h"
          ]
        }
      ],
      "source": [
        "!pip install PyMuPDF --quiet"
      ]
    },
    {
      "cell_type": "code",
      "execution_count": 2,
      "metadata": {
        "id": "xpz8HdsPD98E"
      },
      "outputs": [],
      "source": [
        "# Import PyMuPDF library you've just installed (`fitz`) to work with PDF files\n",
        "import fitz"
      ]
    },
    {
      "cell_type": "code",
      "execution_count": 13,
      "metadata": {
        "id": "FX26J9Q6EAj4"
      },
      "outputs": [],
      "source": [
        "#You can modify the filename below with any PDF path you upload\n",
        "pdf_path = \"/content/Documento para o Desafio de Identificação e Remoção de Dados Sensíveis (1).pdf\""
      ]
    },
    {
      "cell_type": "code",
      "execution_count": 14,
      "metadata": {
        "id": "qv1GWXeaELmB"
      },
      "outputs": [],
      "source": [
        "# Define a function to extract all text from a PDF file. It reads every page and returns the combined text.\n",
        "\n",
        "def extract_text_from_pdf(path: str) -> str:\n",
        "    \"\"\"\n",
        "      Extracts text content from all pages of a PDF file.\n",
        "\n",
        "      Parameters:\n",
        "          path (str): The file path to the PDF document.\n",
        "\n",
        "      Returns:\n",
        "          str: The extracted text from the entire PDF.\n",
        "    \"\"\"\n",
        "    text = \"\"\n",
        "    with fitz.open(path) as doc:\n",
        "        for page in doc:\n",
        "            text += page.get_text()\n",
        "    return text"
      ]
    },
    {
      "cell_type": "code",
      "execution_count": 15,
      "metadata": {
        "id": "whhNfp_wKzTE"
      },
      "outputs": [],
      "source": [
        "#Defines a function to extract all the special characters in the text, in order to have a raw version of the text\n",
        "\n",
        "import unicodedata\n",
        "import re\n",
        "\n",
        "def remove_all_special_characters(text: str) -> str:\n",
        "    \"\"\"\n",
        "    Normalizes and cleans a text string by removing accents, punctuation, and special characters.\n",
        "\n",
        "    Steps:\n",
        "        1. Converts accented characters to their ASCII equivalents.\n",
        "        2. Removes all characters except letters, numbers, and spaces.\n",
        "        3. Collapses multiple spaces into a single space.\n",
        "\n",
        "    Parameters:\n",
        "        text (str): The input string to be cleaned.\n",
        "\n",
        "    Returns:\n",
        "        str: The cleaned and normalized string.\n",
        "    \"\"\"\n",
        "    text = unicodedata.normalize(\"NFD\", text)\n",
        "    text = text.encode(\"ascii\", \"ignore\").decode(\"utf-8\")\n",
        "\n",
        "    text = re.sub(r\"[^a-zA-Z0-9\\s]\", \"\", text)\n",
        "    text = re.sub(r\"\\s+\", \" \", text)\n",
        "\n",
        "    return text.strip()"
      ]
    },
    {
      "cell_type": "code",
      "execution_count": 16,
      "metadata": {
        "id": "ayejuzMpEM2y"
      },
      "outputs": [],
      "source": [
        "# 🚀 Run this function to extract the text on your chosen PDF!\n",
        "\n",
        "raw_text = extract_text_from_pdf(pdf_path)"
      ]
    },
    {
      "cell_type": "code",
      "execution_count": 17,
      "metadata": {
        "id": "TzJN5Q7rK1RH"
      },
      "outputs": [],
      "source": [
        "# 🚀 Run this function to remove all the special characters from the texrt you've extracted in the step before!\n",
        "\n",
        "raw_text_cleaned = remove_all_special_characters(raw_text)"
      ]
    },
    {
      "cell_type": "code",
      "execution_count": 18,
      "metadata": {
        "colab": {
          "base_uri": "https://localhost:8080/"
        },
        "id": "Sro4bc3GEQRY",
        "outputId": "2a5e83fb-8f40-48be-9006-4b2dc841cfac"
      },
      "outputs": [
        {
          "name": "stdout",
          "output_type": "stream",
          "text": [
            "✅ Text extracted and saved to: /content/Documento para o Desafio de Identificação e Remoção de Dados Sensíveis (1).txt\n"
          ]
        }
      ],
      "source": [
        "txt_path = pdf_path.replace(\".pdf\", \".txt\")\n",
        "with open(txt_path, \"w\", encoding=\"utf-8\") as f:\n",
        "    f.write(raw_text_cleaned)\n",
        "\n",
        "print(f\"✅ Text extracted and saved to: {txt_path}\")"
      ]
    },
    {
      "cell_type": "code",
      "execution_count": 19,
      "metadata": {
        "colab": {
          "base_uri": "https://localhost:8080/"
        },
        "id": "2TC5cHShETI-",
        "outputId": "9048512e-cfbc-4084-c8c5-e7ce5bdbf2ca"
      },
      "outputs": [
        {
          "name": "stdout",
          "output_type": "stream",
          "text": [
            "\n",
            "--- Preview of Extracted Text ---\n",
            "\n",
            "Documento para o Desafio de Identificacao e Remocao de Dados Sensiveis Relatorio de Admissao Centro Medico Lisboa Data 15 de abril de 2025 Referencia ADM20250415089 Informacoes do Paciente Nome Maria Conceicao Oliveira Santos Data de Nascimento 12031978 CPF 12345678910 Cartao de Cidadao 123456789ZX0 Morada Rua das Flores 123 Apt 45 Sacavem Lisboa Telefone 351 912 345 678 Email mariasantosemailpessoalpt Numero da Seguranca Social 11223344556 Historico Medico A paciente Maria Santos mulher caucasiana de 47 anos compareceu a consulta relatando dores abdominais intensas Tem historico de hipertensao e diabetes tipo 2 diagnosticada ha 5 anos E HIV positivo desde 2018 atualmente com carga viral indetectavel gracas ao tratamento com antirretrovirais A paciente relatou que sua familia tem historico de cancro da mama mae falecida aos 52 anos e doenca cardiaca pai e avo paterno Exames geneticos realizados em 2022 indicaram predisposicao ao cancro de mama mutacao BRCA1 positiva Informacoes Sociais e Comportamentais Estado civil Divorciada Filhos 2 Joao 15 anos e Ana 12 anos Religiao Catolica praticante Orientacao sexual Bissexual Ocupacao Professora universitaria na Faculdade de Direito de Lisboa Afiliacao politica Membro ativo do Partido Socialista participou em manifestacoes recentes pelos direitos LGBTQ Habitos Exfumante parou ha 3 anos consome alcool socialmente 23 doses por semana Historico de uso de substancias Tratamento para dependencia de ansioliticos em 2019 Informacoes Financeiras Seguro de saude Plano Premium Saude Total apolice n 987654321 Numero do cartao de credito 4111 2222 3333 4444 validade 0927 CVV 123 Rendimento anual declarado 62500 Dados Biometricos Impressao digital registrada no sistema IDBIO12345 Reconhecimento facial FACEID78901 Altura 168m Peso 72kg Tipo sanguineo O Pressao arterial na admissao 14590 mmHg Notas da Consulta A paciente apresentouse ansiosa durante a consulta relatando problemas no trabalho devido a discriminacao que sofre pela sua orientacao sexual Mencionou conflitos recentes com colegas conservadores que se opoem as suas posicoes politicas progressistas Exames solicitados hemograma completo glicemia em jejum perfil lipidico funcao hepatica e renal ultrassonografia abdominal Prescricao Metformina 850mg 2xdia Losartana 50mg 1xdia Alprazolam 05mg apenas em caso de crises de ansiedade Contatos de Emergencia Nome Antonio Santos irmao Telefone 351 961 234 567 Email antoniosantosemailpessoalpt Nome Joana Pereira amiga proxima Telefone 351 939 876 543 Assinatura Digital Dr Carlos Mendes CRM 12345PT Especialidade Medicina Interna Email carlosmendescentromedicalisboapt Telefone 351 213 456 789 Analise ao documento Este documento contem diversos tipos de dados sensiveis conforme definidos pelo RGPD incluindo dados de saude orientacao sexual conviccoes religiosas e politicas dados geneticos biometricos entre outros O desafio para os participantes do hackathon sera identificar todos estes dados sensiveis e desenvolver um sistema baseado em LLMs que possa detectalos e removelos ou pseudonimizalos adequadamente mantendo a utilidade do documento para fins legitimos enquanto protege a privacidade do individuo Este documento e particularmente desafiador pois contem dados sensiveis em diferentes contextos e formatos exigindo que o modelo de IA seja capaz de compreender nuances e identificar informacoes sensiveis mesmo quando nao explicitamente rotuladas como tal Categorias de Dados Sensiveis Presentes no Documento Dados de identificacao pessoal Nome completo Data de nascimento Documentos de identificacao CPF Cartao de Cidadao Endereco residencial Contatos telefone email Numero da Seguranca Social Dados de saude Condicoes medicas hipertensao diabetes HIV Historico medico familiar Medicamentos prescritos Resultados de exames Dados biometricos altura peso pressao arterial tipo sanguineo Dados geneticos Resultados de testes geneticos mutacao BRCA1 Dados sobre origem racial ou etnica Referencia a etnia caucasiana Dados sobre conviccoes religiosas Filiacao religiosa catolica praticante Dados sobre opinioes politicas Afiliacao partidaria Partido Socialista Ativismo politico Dados sobre orientacao sexual Orientacao sexual explicitamente mencionada bissexual Dados financeiros Informacoes de cartao de credito Detalhes bancarios IBAN Rendimento anual Informacoes de seguro Dados biometricos Referencias a impressoes digitais e reconhecimento facial Dados sobre vida familiar Estado civil Informacoes sobre filhos menores Dados sobre comportamentos pessoais Historico de uso de substancias Tratamento para dependencia Consumo de alcool\n"
          ]
        }
      ],
      "source": [
        "print(\"\\n--- Preview of Extracted Text ---\\n\")\n",
        "print(raw_text_cleaned)"
      ]
    }
  ],
  "metadata": {
    "colab": {
      "provenance": []
    },
    "kernelspec": {
      "display_name": "Python 3",
      "name": "python3"
    },
    "language_info": {
      "name": "python"
    }
  },
  "nbformat": 4,
  "nbformat_minor": 0
}
